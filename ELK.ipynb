{
 "cells": [
  {
   "cell_type": "code",
   "execution_count": 71,
   "metadata": {
    "collapsed": false
   },
   "outputs": [],
   "source": [
    "import elasticsearch\n",
    "from elasticsearch_dsl import Search, Q, MultiSearch\n",
    "import json\n",
    "import subprocess\n",
    "import logstash\n",
    "import requests"
   ]
  },
  {
   "cell_type": "code",
   "execution_count": null,
   "metadata": {
    "collapsed": true
   },
   "outputs": [],
   "source": [
    "#! docker run -v ~/elk-data:/var/lib/elasticsearch -p 5601:5601 -p 9200:9200 -p 5044:5044 -it sebp/elk:es241_l240_k461"
   ]
  },
  {
   "cell_type": "markdown",
   "metadata": {},
   "source": [
    "-elastic data is stored in /var/lib/elasticsearch in the container.  \n",
    "-latest sebp/elk image is failing \n"
   ]
  },
  {
   "cell_type": "code",
   "execution_count": 70,
   "metadata": {
    "collapsed": false
   },
   "outputs": [],
   "source": [
    "local_machine = {'host':'localhost','port':9200}\n",
    "es = elasticsearch.Elasticsearch(hosts=[local_machine])\n",
    "\n",
    "\n",
    "def json_to_num(j):\n",
    "    for k in j:\n",
    "        try:\n",
    "            j[k] = float(j[k])\n",
    "        except:\n",
    "            pass\n",
    "    return j\n"
   ]
  },
  {
   "cell_type": "code",
   "execution_count": 55,
   "metadata": {
    "collapsed": false
   },
   "outputs": [],
   "source": [
    "# quick sanity check if elastic is running\n",
    "assert 'cluster_name' in requests.get('http://localhost:9200').text"
   ]
  },
  {
   "cell_type": "code",
   "execution_count": 56,
   "metadata": {
    "collapsed": false
   },
   "outputs": [
    {
     "ename": "KeyboardInterrupt",
     "evalue": "",
     "output_type": "error",
     "traceback": [
      "\u001b[1;31m---------------------------------------------------------------------------\u001b[0m",
      "\u001b[1;31mTypeError\u001b[0m                                 Traceback (most recent call last)",
      "\u001b[1;32m/home/i008/anaconda3/lib/python3.5/site-packages/urllib3/connectionpool.py\u001b[0m in \u001b[0;36m_make_request\u001b[1;34m(self, conn, method, url, timeout, chunked, **httplib_request_kw)\u001b[0m\n\u001b[0;32m    383\u001b[0m             \u001b[1;32mtry\u001b[0m\u001b[1;33m:\u001b[0m  \u001b[1;31m# Python 2.7, use buffering of HTTP responses\u001b[0m\u001b[1;33m\u001b[0m\u001b[0m\n\u001b[1;32m--> 384\u001b[1;33m                 \u001b[0mhttplib_response\u001b[0m \u001b[1;33m=\u001b[0m \u001b[0mconn\u001b[0m\u001b[1;33m.\u001b[0m\u001b[0mgetresponse\u001b[0m\u001b[1;33m(\u001b[0m\u001b[0mbuffering\u001b[0m\u001b[1;33m=\u001b[0m\u001b[1;32mTrue\u001b[0m\u001b[1;33m)\u001b[0m\u001b[1;33m\u001b[0m\u001b[0m\n\u001b[0m\u001b[0;32m    385\u001b[0m             \u001b[1;32mexcept\u001b[0m \u001b[0mTypeError\u001b[0m\u001b[1;33m:\u001b[0m  \u001b[1;31m# Python 2.6 and older, Python 3\u001b[0m\u001b[1;33m\u001b[0m\u001b[0m\n",
      "\u001b[1;31mTypeError\u001b[0m: getresponse() got an unexpected keyword argument 'buffering'",
      "\nDuring handling of the above exception, another exception occurred:\n",
      "\u001b[1;31mKeyboardInterrupt\u001b[0m                         Traceback (most recent call last)",
      "\u001b[1;32m<ipython-input-56-dd00777a0716>\u001b[0m in \u001b[0;36m<module>\u001b[1;34m()\u001b[0m\n\u001b[0;32m      4\u001b[0m \u001b[1;32mwhile\u001b[0m \u001b[0mr\u001b[0m\u001b[1;33m.\u001b[0m\u001b[0mstatus_code\u001b[0m \u001b[1;33m==\u001b[0m \u001b[1;36m200\u001b[0m\u001b[1;33m:\u001b[0m\u001b[1;33m\u001b[0m\u001b[0m\n\u001b[0;32m      5\u001b[0m     \u001b[0mr\u001b[0m \u001b[1;33m=\u001b[0m \u001b[0mrequests\u001b[0m\u001b[1;33m.\u001b[0m\u001b[0mget\u001b[0m\u001b[1;33m(\u001b[0m\u001b[1;34m'http://swapi.co/api/people/'\u001b[0m\u001b[1;33m+\u001b[0m \u001b[0mstr\u001b[0m\u001b[1;33m(\u001b[0m\u001b[0mi\u001b[0m\u001b[1;33m)\u001b[0m\u001b[1;33m)\u001b[0m\u001b[1;33m\u001b[0m\u001b[0m\n\u001b[1;32m----> 6\u001b[1;33m     \u001b[0mes\u001b[0m\u001b[1;33m.\u001b[0m\u001b[0mindex\u001b[0m\u001b[1;33m(\u001b[0m\u001b[0mindex\u001b[0m\u001b[1;33m=\u001b[0m\u001b[1;34m'sw2'\u001b[0m\u001b[1;33m,\u001b[0m \u001b[0mdoc_type\u001b[0m\u001b[1;33m=\u001b[0m\u001b[1;34m'people'\u001b[0m\u001b[1;33m,\u001b[0m \u001b[0mid\u001b[0m\u001b[1;33m=\u001b[0m\u001b[0mi\u001b[0m\u001b[1;33m,\u001b[0m \u001b[0mbody\u001b[0m\u001b[1;33m=\u001b[0m\u001b[0mjson_to_num\u001b[0m\u001b[1;33m(\u001b[0m\u001b[0mjson\u001b[0m\u001b[1;33m.\u001b[0m\u001b[0mloads\u001b[0m\u001b[1;33m(\u001b[0m\u001b[0mr\u001b[0m\u001b[1;33m.\u001b[0m\u001b[0mtext\u001b[0m\u001b[1;33m)\u001b[0m\u001b[1;33m)\u001b[0m\u001b[1;33m)\u001b[0m\u001b[1;33m\u001b[0m\u001b[0m\n\u001b[0m\u001b[0;32m      7\u001b[0m     \u001b[0mi\u001b[0m\u001b[1;33m=\u001b[0m\u001b[0mi\u001b[0m\u001b[1;33m+\u001b[0m\u001b[1;36m1\u001b[0m\u001b[1;33m\u001b[0m\u001b[0m\n",
      "\u001b[1;32m/home/i008/anaconda3/lib/python3.5/site-packages/elasticsearch/client/utils.py\u001b[0m in \u001b[0;36m_wrapped\u001b[1;34m(*args, **kwargs)\u001b[0m\n\u001b[0;32m     69\u001b[0m                 \u001b[1;32mif\u001b[0m \u001b[0mp\u001b[0m \u001b[1;32min\u001b[0m \u001b[0mkwargs\u001b[0m\u001b[1;33m:\u001b[0m\u001b[1;33m\u001b[0m\u001b[0m\n\u001b[0;32m     70\u001b[0m                     \u001b[0mparams\u001b[0m\u001b[1;33m[\u001b[0m\u001b[0mp\u001b[0m\u001b[1;33m]\u001b[0m \u001b[1;33m=\u001b[0m \u001b[0mkwargs\u001b[0m\u001b[1;33m.\u001b[0m\u001b[0mpop\u001b[0m\u001b[1;33m(\u001b[0m\u001b[0mp\u001b[0m\u001b[1;33m)\u001b[0m\u001b[1;33m\u001b[0m\u001b[0m\n\u001b[1;32m---> 71\u001b[1;33m             \u001b[1;32mreturn\u001b[0m \u001b[0mfunc\u001b[0m\u001b[1;33m(\u001b[0m\u001b[1;33m*\u001b[0m\u001b[0margs\u001b[0m\u001b[1;33m,\u001b[0m \u001b[0mparams\u001b[0m\u001b[1;33m=\u001b[0m\u001b[0mparams\u001b[0m\u001b[1;33m,\u001b[0m \u001b[1;33m**\u001b[0m\u001b[0mkwargs\u001b[0m\u001b[1;33m)\u001b[0m\u001b[1;33m\u001b[0m\u001b[0m\n\u001b[0m\u001b[0;32m     72\u001b[0m         \u001b[1;32mreturn\u001b[0m \u001b[0m_wrapped\u001b[0m\u001b[1;33m\u001b[0m\u001b[0m\n\u001b[0;32m     73\u001b[0m     \u001b[1;32mreturn\u001b[0m \u001b[0m_wrapper\u001b[0m\u001b[1;33m\u001b[0m\u001b[0m\n",
      "\u001b[1;32m/home/i008/anaconda3/lib/python3.5/site-packages/elasticsearch/client/__init__.py\u001b[0m in \u001b[0;36mindex\u001b[1;34m(self, index, doc_type, body, id, params)\u001b[0m\n\u001b[0;32m    298\u001b[0m                 \u001b[1;32mraise\u001b[0m \u001b[0mValueError\u001b[0m\u001b[1;33m(\u001b[0m\u001b[1;34m\"Empty value passed for a required argument.\"\u001b[0m\u001b[1;33m)\u001b[0m\u001b[1;33m\u001b[0m\u001b[0m\n\u001b[0;32m    299\u001b[0m         return self.transport.perform_request('POST' if id in SKIP_IN_PATH else 'PUT',\n\u001b[1;32m--> 300\u001b[1;33m             _make_path(index, doc_type, id), params=params, body=body)\n\u001b[0m\u001b[0;32m    301\u001b[0m \u001b[1;33m\u001b[0m\u001b[0m\n\u001b[0;32m    302\u001b[0m     \u001b[1;33m@\u001b[0m\u001b[0mquery_params\u001b[0m\u001b[1;33m(\u001b[0m\u001b[1;34m'parent'\u001b[0m\u001b[1;33m,\u001b[0m \u001b[1;34m'preference'\u001b[0m\u001b[1;33m,\u001b[0m \u001b[1;34m'realtime'\u001b[0m\u001b[1;33m,\u001b[0m \u001b[1;34m'refresh'\u001b[0m\u001b[1;33m,\u001b[0m \u001b[1;34m'routing'\u001b[0m\u001b[1;33m)\u001b[0m\u001b[1;33m\u001b[0m\u001b[0m\n",
      "\u001b[1;32m/home/i008/anaconda3/lib/python3.5/site-packages/elasticsearch/transport.py\u001b[0m in \u001b[0;36mperform_request\u001b[1;34m(self, method, url, params, body)\u001b[0m\n\u001b[0;32m    325\u001b[0m \u001b[1;33m\u001b[0m\u001b[0m\n\u001b[0;32m    326\u001b[0m             \u001b[1;32mtry\u001b[0m\u001b[1;33m:\u001b[0m\u001b[1;33m\u001b[0m\u001b[0m\n\u001b[1;32m--> 327\u001b[1;33m                 \u001b[0mstatus\u001b[0m\u001b[1;33m,\u001b[0m \u001b[0mheaders\u001b[0m\u001b[1;33m,\u001b[0m \u001b[0mdata\u001b[0m \u001b[1;33m=\u001b[0m \u001b[0mconnection\u001b[0m\u001b[1;33m.\u001b[0m\u001b[0mperform_request\u001b[0m\u001b[1;33m(\u001b[0m\u001b[0mmethod\u001b[0m\u001b[1;33m,\u001b[0m \u001b[0murl\u001b[0m\u001b[1;33m,\u001b[0m \u001b[0mparams\u001b[0m\u001b[1;33m,\u001b[0m \u001b[0mbody\u001b[0m\u001b[1;33m,\u001b[0m \u001b[0mignore\u001b[0m\u001b[1;33m=\u001b[0m\u001b[0mignore\u001b[0m\u001b[1;33m,\u001b[0m \u001b[0mtimeout\u001b[0m\u001b[1;33m=\u001b[0m\u001b[0mtimeout\u001b[0m\u001b[1;33m)\u001b[0m\u001b[1;33m\u001b[0m\u001b[0m\n\u001b[0m\u001b[0;32m    328\u001b[0m \u001b[1;33m\u001b[0m\u001b[0m\n\u001b[0;32m    329\u001b[0m             \u001b[1;32mexcept\u001b[0m \u001b[0mTransportError\u001b[0m \u001b[1;32mas\u001b[0m \u001b[0me\u001b[0m\u001b[1;33m:\u001b[0m\u001b[1;33m\u001b[0m\u001b[0m\n",
      "\u001b[1;32m/home/i008/anaconda3/lib/python3.5/site-packages/elasticsearch/connection/http_urllib3.py\u001b[0m in \u001b[0;36mperform_request\u001b[1;34m(self, method, url, params, body, timeout, ignore)\u001b[0m\n\u001b[0;32m    107\u001b[0m                 \u001b[0mmethod\u001b[0m \u001b[1;33m=\u001b[0m \u001b[0mmethod\u001b[0m\u001b[1;33m.\u001b[0m\u001b[0mencode\u001b[0m\u001b[1;33m(\u001b[0m\u001b[1;34m'utf-8'\u001b[0m\u001b[1;33m)\u001b[0m\u001b[1;33m\u001b[0m\u001b[0m\n\u001b[0;32m    108\u001b[0m \u001b[1;33m\u001b[0m\u001b[0m\n\u001b[1;32m--> 109\u001b[1;33m             \u001b[0mresponse\u001b[0m \u001b[1;33m=\u001b[0m \u001b[0mself\u001b[0m\u001b[1;33m.\u001b[0m\u001b[0mpool\u001b[0m\u001b[1;33m.\u001b[0m\u001b[0murlopen\u001b[0m\u001b[1;33m(\u001b[0m\u001b[0mmethod\u001b[0m\u001b[1;33m,\u001b[0m \u001b[0murl\u001b[0m\u001b[1;33m,\u001b[0m \u001b[0mbody\u001b[0m\u001b[1;33m,\u001b[0m \u001b[0mretries\u001b[0m\u001b[1;33m=\u001b[0m\u001b[1;32mFalse\u001b[0m\u001b[1;33m,\u001b[0m \u001b[0mheaders\u001b[0m\u001b[1;33m=\u001b[0m\u001b[0mself\u001b[0m\u001b[1;33m.\u001b[0m\u001b[0mheaders\u001b[0m\u001b[1;33m,\u001b[0m \u001b[1;33m**\u001b[0m\u001b[0mkw\u001b[0m\u001b[1;33m)\u001b[0m\u001b[1;33m\u001b[0m\u001b[0m\n\u001b[0m\u001b[0;32m    110\u001b[0m             \u001b[0mduration\u001b[0m \u001b[1;33m=\u001b[0m \u001b[0mtime\u001b[0m\u001b[1;33m.\u001b[0m\u001b[0mtime\u001b[0m\u001b[1;33m(\u001b[0m\u001b[1;33m)\u001b[0m \u001b[1;33m-\u001b[0m \u001b[0mstart\u001b[0m\u001b[1;33m\u001b[0m\u001b[0m\n\u001b[0;32m    111\u001b[0m             \u001b[0mraw_data\u001b[0m \u001b[1;33m=\u001b[0m \u001b[0mresponse\u001b[0m\u001b[1;33m.\u001b[0m\u001b[0mdata\u001b[0m\u001b[1;33m.\u001b[0m\u001b[0mdecode\u001b[0m\u001b[1;33m(\u001b[0m\u001b[1;34m'utf-8'\u001b[0m\u001b[1;33m)\u001b[0m\u001b[1;33m\u001b[0m\u001b[0m\n",
      "\u001b[1;32m/home/i008/anaconda3/lib/python3.5/site-packages/urllib3/connectionpool.py\u001b[0m in \u001b[0;36murlopen\u001b[1;34m(self, method, url, body, headers, retries, redirect, assert_same_host, timeout, pool_timeout, release_conn, chunked, **response_kw)\u001b[0m\n\u001b[0;32m    592\u001b[0m                                                   \u001b[0mtimeout\u001b[0m\u001b[1;33m=\u001b[0m\u001b[0mtimeout_obj\u001b[0m\u001b[1;33m,\u001b[0m\u001b[1;33m\u001b[0m\u001b[0m\n\u001b[0;32m    593\u001b[0m                                                   \u001b[0mbody\u001b[0m\u001b[1;33m=\u001b[0m\u001b[0mbody\u001b[0m\u001b[1;33m,\u001b[0m \u001b[0mheaders\u001b[0m\u001b[1;33m=\u001b[0m\u001b[0mheaders\u001b[0m\u001b[1;33m,\u001b[0m\u001b[1;33m\u001b[0m\u001b[0m\n\u001b[1;32m--> 594\u001b[1;33m                                                   chunked=chunked)\n\u001b[0m\u001b[0;32m    595\u001b[0m \u001b[1;33m\u001b[0m\u001b[0m\n\u001b[0;32m    596\u001b[0m             \u001b[1;31m# If we're going to release the connection in ``finally:``, then\u001b[0m\u001b[1;33m\u001b[0m\u001b[1;33m\u001b[0m\u001b[0m\n",
      "\u001b[1;32m/home/i008/anaconda3/lib/python3.5/site-packages/urllib3/connectionpool.py\u001b[0m in \u001b[0;36m_make_request\u001b[1;34m(self, conn, method, url, timeout, chunked, **httplib_request_kw)\u001b[0m\n\u001b[0;32m    385\u001b[0m             \u001b[1;32mexcept\u001b[0m \u001b[0mTypeError\u001b[0m\u001b[1;33m:\u001b[0m  \u001b[1;31m# Python 2.6 and older, Python 3\u001b[0m\u001b[1;33m\u001b[0m\u001b[0m\n\u001b[0;32m    386\u001b[0m                 \u001b[1;32mtry\u001b[0m\u001b[1;33m:\u001b[0m\u001b[1;33m\u001b[0m\u001b[0m\n\u001b[1;32m--> 387\u001b[1;33m                     \u001b[0mhttplib_response\u001b[0m \u001b[1;33m=\u001b[0m \u001b[0mconn\u001b[0m\u001b[1;33m.\u001b[0m\u001b[0mgetresponse\u001b[0m\u001b[1;33m(\u001b[0m\u001b[1;33m)\u001b[0m\u001b[1;33m\u001b[0m\u001b[0m\n\u001b[0m\u001b[0;32m    388\u001b[0m                 \u001b[1;32mexcept\u001b[0m \u001b[0mException\u001b[0m \u001b[1;32mas\u001b[0m \u001b[0me\u001b[0m\u001b[1;33m:\u001b[0m\u001b[1;33m\u001b[0m\u001b[0m\n\u001b[0;32m    389\u001b[0m                     \u001b[1;31m# Remove the TypeError from the exception chain in Python 3;\u001b[0m\u001b[1;33m\u001b[0m\u001b[1;33m\u001b[0m\u001b[0m\n",
      "\u001b[1;32m/home/i008/anaconda3/lib/python3.5/http/client.py\u001b[0m in \u001b[0;36mgetresponse\u001b[1;34m(self)\u001b[0m\n\u001b[0;32m   1195\u001b[0m         \u001b[1;32mtry\u001b[0m\u001b[1;33m:\u001b[0m\u001b[1;33m\u001b[0m\u001b[0m\n\u001b[0;32m   1196\u001b[0m             \u001b[1;32mtry\u001b[0m\u001b[1;33m:\u001b[0m\u001b[1;33m\u001b[0m\u001b[0m\n\u001b[1;32m-> 1197\u001b[1;33m                 \u001b[0mresponse\u001b[0m\u001b[1;33m.\u001b[0m\u001b[0mbegin\u001b[0m\u001b[1;33m(\u001b[0m\u001b[1;33m)\u001b[0m\u001b[1;33m\u001b[0m\u001b[0m\n\u001b[0m\u001b[0;32m   1198\u001b[0m             \u001b[1;32mexcept\u001b[0m \u001b[0mConnectionError\u001b[0m\u001b[1;33m:\u001b[0m\u001b[1;33m\u001b[0m\u001b[0m\n\u001b[0;32m   1199\u001b[0m                 \u001b[0mself\u001b[0m\u001b[1;33m.\u001b[0m\u001b[0mclose\u001b[0m\u001b[1;33m(\u001b[0m\u001b[1;33m)\u001b[0m\u001b[1;33m\u001b[0m\u001b[0m\n",
      "\u001b[1;32m/home/i008/anaconda3/lib/python3.5/http/client.py\u001b[0m in \u001b[0;36mbegin\u001b[1;34m(self)\u001b[0m\n\u001b[0;32m    295\u001b[0m         \u001b[1;31m# read until we get a non-100 response\u001b[0m\u001b[1;33m\u001b[0m\u001b[1;33m\u001b[0m\u001b[0m\n\u001b[0;32m    296\u001b[0m         \u001b[1;32mwhile\u001b[0m \u001b[1;32mTrue\u001b[0m\u001b[1;33m:\u001b[0m\u001b[1;33m\u001b[0m\u001b[0m\n\u001b[1;32m--> 297\u001b[1;33m             \u001b[0mversion\u001b[0m\u001b[1;33m,\u001b[0m \u001b[0mstatus\u001b[0m\u001b[1;33m,\u001b[0m \u001b[0mreason\u001b[0m \u001b[1;33m=\u001b[0m \u001b[0mself\u001b[0m\u001b[1;33m.\u001b[0m\u001b[0m_read_status\u001b[0m\u001b[1;33m(\u001b[0m\u001b[1;33m)\u001b[0m\u001b[1;33m\u001b[0m\u001b[0m\n\u001b[0m\u001b[0;32m    298\u001b[0m             \u001b[1;32mif\u001b[0m \u001b[0mstatus\u001b[0m \u001b[1;33m!=\u001b[0m \u001b[0mCONTINUE\u001b[0m\u001b[1;33m:\u001b[0m\u001b[1;33m\u001b[0m\u001b[0m\n\u001b[0;32m    299\u001b[0m                 \u001b[1;32mbreak\u001b[0m\u001b[1;33m\u001b[0m\u001b[0m\n",
      "\u001b[1;32m/home/i008/anaconda3/lib/python3.5/http/client.py\u001b[0m in \u001b[0;36m_read_status\u001b[1;34m(self)\u001b[0m\n\u001b[0;32m    256\u001b[0m \u001b[1;33m\u001b[0m\u001b[0m\n\u001b[0;32m    257\u001b[0m     \u001b[1;32mdef\u001b[0m \u001b[0m_read_status\u001b[0m\u001b[1;33m(\u001b[0m\u001b[0mself\u001b[0m\u001b[1;33m)\u001b[0m\u001b[1;33m:\u001b[0m\u001b[1;33m\u001b[0m\u001b[0m\n\u001b[1;32m--> 258\u001b[1;33m         \u001b[0mline\u001b[0m \u001b[1;33m=\u001b[0m \u001b[0mstr\u001b[0m\u001b[1;33m(\u001b[0m\u001b[0mself\u001b[0m\u001b[1;33m.\u001b[0m\u001b[0mfp\u001b[0m\u001b[1;33m.\u001b[0m\u001b[0mreadline\u001b[0m\u001b[1;33m(\u001b[0m\u001b[0m_MAXLINE\u001b[0m \u001b[1;33m+\u001b[0m \u001b[1;36m1\u001b[0m\u001b[1;33m)\u001b[0m\u001b[1;33m,\u001b[0m \u001b[1;34m\"iso-8859-1\"\u001b[0m\u001b[1;33m)\u001b[0m\u001b[1;33m\u001b[0m\u001b[0m\n\u001b[0m\u001b[0;32m    259\u001b[0m         \u001b[1;32mif\u001b[0m \u001b[0mlen\u001b[0m\u001b[1;33m(\u001b[0m\u001b[0mline\u001b[0m\u001b[1;33m)\u001b[0m \u001b[1;33m>\u001b[0m \u001b[0m_MAXLINE\u001b[0m\u001b[1;33m:\u001b[0m\u001b[1;33m\u001b[0m\u001b[0m\n\u001b[0;32m    260\u001b[0m             \u001b[1;32mraise\u001b[0m \u001b[0mLineTooLong\u001b[0m\u001b[1;33m(\u001b[0m\u001b[1;34m\"status line\"\u001b[0m\u001b[1;33m)\u001b[0m\u001b[1;33m\u001b[0m\u001b[0m\n",
      "\u001b[1;32m/home/i008/anaconda3/lib/python3.5/socket.py\u001b[0m in \u001b[0;36mreadinto\u001b[1;34m(self, b)\u001b[0m\n\u001b[0;32m    573\u001b[0m         \u001b[1;32mwhile\u001b[0m \u001b[1;32mTrue\u001b[0m\u001b[1;33m:\u001b[0m\u001b[1;33m\u001b[0m\u001b[0m\n\u001b[0;32m    574\u001b[0m             \u001b[1;32mtry\u001b[0m\u001b[1;33m:\u001b[0m\u001b[1;33m\u001b[0m\u001b[0m\n\u001b[1;32m--> 575\u001b[1;33m                 \u001b[1;32mreturn\u001b[0m \u001b[0mself\u001b[0m\u001b[1;33m.\u001b[0m\u001b[0m_sock\u001b[0m\u001b[1;33m.\u001b[0m\u001b[0mrecv_into\u001b[0m\u001b[1;33m(\u001b[0m\u001b[0mb\u001b[0m\u001b[1;33m)\u001b[0m\u001b[1;33m\u001b[0m\u001b[0m\n\u001b[0m\u001b[0;32m    576\u001b[0m             \u001b[1;32mexcept\u001b[0m \u001b[0mtimeout\u001b[0m\u001b[1;33m:\u001b[0m\u001b[1;33m\u001b[0m\u001b[0m\n\u001b[0;32m    577\u001b[0m                 \u001b[0mself\u001b[0m\u001b[1;33m.\u001b[0m\u001b[0m_timeout_occurred\u001b[0m \u001b[1;33m=\u001b[0m \u001b[1;32mTrue\u001b[0m\u001b[1;33m\u001b[0m\u001b[0m\n",
      "\u001b[1;31mKeyboardInterrupt\u001b[0m: "
     ]
    }
   ],
   "source": [
    "import json\n",
    "r = requests.get('http://localhost:9200') \n",
    "i = 1\n",
    "while r.status_code == 200:\n",
    "    r = requests.get('http://swapi.co/api/people/'+ str(i))\n",
    "    es.index(index='sw2', doc_type='people', id=i, body=json_to_num(json.loads(r.text)))\n",
    "    i=i+1"
   ]
  },
  {
   "cell_type": "code",
   "execution_count": null,
   "metadata": {
    "collapsed": false
   },
   "outputs": [],
   "source": [
    "r = requests.get('http://localhost:9200')\n",
    "i = 18\n",
    "while r.status_code == 200:\n",
    "    r = requests.get('http://swapi.co/api/people/'+ str(i))\n",
    "    es.index(index='sw2', doc_type='people', id=i,  body=json_to_num(json.loads(r.text)))\n",
    "    i=i+1"
   ]
  },
  {
   "cell_type": "code",
   "execution_count": 160,
   "metadata": {
    "collapsed": false
   },
   "outputs": [],
   "source": [
    "res = es.search(index='sw',body={'query':{'match':{\"name\":'obi'}}})"
   ]
  },
  {
   "cell_type": "code",
   "execution_count": 161,
   "metadata": {
    "collapsed": false
   },
   "outputs": [
    {
     "data": {
      "text/plain": [
       "[{'_id': '10',\n",
       "  '_index': 'sw',\n",
       "  '_score': 0.9581454,\n",
       "  '_source': {'birth_year': '57BBY',\n",
       "   'created': '2014-12-10T16:16:29.192000Z',\n",
       "   'edited': '2014-12-20T21:17:50.325000Z',\n",
       "   'eye_color': 'blue-gray',\n",
       "   'films': ['http://swapi.co/api/films/5/',\n",
       "    'http://swapi.co/api/films/4/',\n",
       "    'http://swapi.co/api/films/6/',\n",
       "    'http://swapi.co/api/films/3/',\n",
       "    'http://swapi.co/api/films/2/',\n",
       "    'http://swapi.co/api/films/1/'],\n",
       "   'gender': 'male',\n",
       "   'hair_color': 'auburn, white',\n",
       "   'height': '182',\n",
       "   'homeworld': 'http://swapi.co/api/planets/20/',\n",
       "   'mass': '77',\n",
       "   'name': 'Obi-Wan Kenobi',\n",
       "   'skin_color': 'fair',\n",
       "   'species': ['http://swapi.co/api/species/1/'],\n",
       "   'starships': ['http://swapi.co/api/starships/48/',\n",
       "    'http://swapi.co/api/starships/59/',\n",
       "    'http://swapi.co/api/starships/64/',\n",
       "    'http://swapi.co/api/starships/65/',\n",
       "    'http://swapi.co/api/starships/74/'],\n",
       "   'url': 'http://swapi.co/api/people/10/',\n",
       "   'vehicles': ['http://swapi.co/api/vehicles/38/']},\n",
       "  '_type': 'people'}]"
      ]
     },
     "execution_count": 161,
     "metadata": {},
     "output_type": "execute_result"
    }
   ],
   "source": [
    "sorted(res['hits']['hits'], key=lambda x: x['_score'], reverse=True)"
   ]
  },
  {
   "cell_type": "code",
   "execution_count": 50,
   "metadata": {
    "collapsed": false
   },
   "outputs": [
    {
     "data": {
      "text/plain": [
       "dict_keys(['.kibana', 'sw'])"
      ]
     },
     "execution_count": 50,
     "metadata": {},
     "output_type": "execute_result"
    }
   ],
   "source": [
    "# get current indices\n",
    "es.indices.get('*').keys()"
   ]
  },
  {
   "cell_type": "code",
   "execution_count": 53,
   "metadata": {
    "collapsed": false
   },
   "outputs": [
    {
     "data": {
      "text/plain": [
       "{'_shards': {'failed': 0, 'successful': 5, 'total': 5},\n",
       " 'hits': {'hits': [{'_id': '24',\n",
       "    '_index': 'sw',\n",
       "    '_score': 1.0,\n",
       "    '_source': {'birth_year': '53BBY',\n",
       "     'created': '2014-12-15T12:53:49.297000Z',\n",
       "     'edited': '2014-12-20T21:17:50.355000Z',\n",
       "     'eye_color': 'red',\n",
       "     'films': ['http://swapi.co/api/films/2/'],\n",
       "     'gender': 'male',\n",
       "     'hair_color': 'none',\n",
       "     'height': '190',\n",
       "     'homeworld': 'http://swapi.co/api/planets/29/',\n",
       "     'mass': '113',\n",
       "     'name': 'Bossk',\n",
       "     'skin_color': 'green',\n",
       "     'species': ['http://swapi.co/api/species/7/'],\n",
       "     'starships': [],\n",
       "     'url': 'http://swapi.co/api/people/24/',\n",
       "     'vehicles': []},\n",
       "    '_type': 'people'},\n",
       "   {'_id': '25',\n",
       "    '_index': 'sw',\n",
       "    '_score': 1.0,\n",
       "    '_source': {'birth_year': '31BBY',\n",
       "     'created': '2014-12-15T12:56:32.683000Z',\n",
       "     'edited': '2014-12-20T21:17:50.357000Z',\n",
       "     'eye_color': 'brown',\n",
       "     'films': ['http://swapi.co/api/films/3/', 'http://swapi.co/api/films/2/'],\n",
       "     'gender': 'male',\n",
       "     'hair_color': 'black',\n",
       "     'height': '177',\n",
       "     'homeworld': 'http://swapi.co/api/planets/30/',\n",
       "     'mass': '79',\n",
       "     'name': 'Lando Calrissian',\n",
       "     'skin_color': 'dark',\n",
       "     'species': ['http://swapi.co/api/species/1/'],\n",
       "     'starships': ['http://swapi.co/api/starships/10/'],\n",
       "     'url': 'http://swapi.co/api/people/25/',\n",
       "     'vehicles': []},\n",
       "    '_type': 'people'},\n",
       "   {'_id': '40',\n",
       "    '_index': 'sw',\n",
       "    '_score': 1.0,\n",
       "    '_source': {'birth_year': 'unknown',\n",
       "     'created': '2014-12-19T17:48:54.647000Z',\n",
       "     'edited': '2014-12-20T21:17:50.395000Z',\n",
       "     'eye_color': 'yellow',\n",
       "     'films': ['http://swapi.co/api/films/5/', 'http://swapi.co/api/films/4/'],\n",
       "     'gender': 'male',\n",
       "     'hair_color': 'black',\n",
       "     'height': '137',\n",
       "     'homeworld': 'http://swapi.co/api/planets/34/',\n",
       "     'mass': 'unknown',\n",
       "     'name': 'Watto',\n",
       "     'skin_color': 'blue, grey',\n",
       "     'species': ['http://swapi.co/api/species/13/'],\n",
       "     'starships': [],\n",
       "     'url': 'http://swapi.co/api/people/40/',\n",
       "     'vehicles': []},\n",
       "    '_type': 'people'},\n",
       "   {'_id': '41',\n",
       "    '_index': 'sw',\n",
       "    '_score': 1.0,\n",
       "    '_source': {'birth_year': 'unknown',\n",
       "     'created': '2014-12-19T17:53:02.586000Z',\n",
       "     'edited': '2014-12-20T21:17:50.397000Z',\n",
       "     'eye_color': 'orange',\n",
       "     'films': ['http://swapi.co/api/films/4/'],\n",
       "     'gender': 'male',\n",
       "     'hair_color': 'none',\n",
       "     'height': '112',\n",
       "     'homeworld': 'http://swapi.co/api/planets/35/',\n",
       "     'mass': '40',\n",
       "     'name': 'Sebulba',\n",
       "     'skin_color': 'grey, red',\n",
       "     'species': ['http://swapi.co/api/species/14/'],\n",
       "     'starships': [],\n",
       "     'url': 'http://swapi.co/api/people/41/',\n",
       "     'vehicles': []},\n",
       "    '_type': 'people'},\n",
       "   {'_id': '44',\n",
       "    '_index': 'sw',\n",
       "    '_score': 1.0,\n",
       "    '_source': {'birth_year': '54BBY',\n",
       "     'created': '2014-12-19T18:00:41.929000Z',\n",
       "     'edited': '2014-12-20T21:17:50.403000Z',\n",
       "     'eye_color': 'yellow',\n",
       "     'films': ['http://swapi.co/api/films/4/'],\n",
       "     'gender': 'male',\n",
       "     'hair_color': 'none',\n",
       "     'height': '175',\n",
       "     'homeworld': 'http://swapi.co/api/planets/36/',\n",
       "     'mass': '80',\n",
       "     'name': 'Darth Maul',\n",
       "     'skin_color': 'red',\n",
       "     'species': ['http://swapi.co/api/species/22/'],\n",
       "     'starships': ['http://swapi.co/api/starships/41/'],\n",
       "     'url': 'http://swapi.co/api/people/44/',\n",
       "     'vehicles': ['http://swapi.co/api/vehicles/42/']},\n",
       "    '_type': 'people'},\n",
       "   {'_id': '14',\n",
       "    '_index': 'sw',\n",
       "    '_score': 1.0,\n",
       "    '_source': {'birth_year': '29BBY',\n",
       "     'created': '2014-12-10T16:49:14.582000Z',\n",
       "     'edited': '2014-12-20T21:17:50.334000Z',\n",
       "     'eye_color': 'brown',\n",
       "     'films': ['http://swapi.co/api/films/3/',\n",
       "      'http://swapi.co/api/films/2/',\n",
       "      'http://swapi.co/api/films/1/',\n",
       "      'http://swapi.co/api/films/7/'],\n",
       "     'gender': 'male',\n",
       "     'hair_color': 'brown',\n",
       "     'height': '180',\n",
       "     'homeworld': 'http://swapi.co/api/planets/22/',\n",
       "     'mass': '80',\n",
       "     'name': 'Han Solo',\n",
       "     'skin_color': 'fair',\n",
       "     'species': ['http://swapi.co/api/species/1/'],\n",
       "     'starships': ['http://swapi.co/api/starships/10/',\n",
       "      'http://swapi.co/api/starships/22/'],\n",
       "     'url': 'http://swapi.co/api/people/14/',\n",
       "     'vehicles': []},\n",
       "    '_type': 'people'},\n",
       "   {'_id': '22',\n",
       "    '_index': 'sw',\n",
       "    '_score': 1.0,\n",
       "    '_source': {'birth_year': '31.5BBY',\n",
       "     'created': '2014-12-15T12:49:32.457000Z',\n",
       "     'edited': '2014-12-20T21:17:50.349000Z',\n",
       "     'eye_color': 'brown',\n",
       "     'films': ['http://swapi.co/api/films/5/',\n",
       "      'http://swapi.co/api/films/3/',\n",
       "      'http://swapi.co/api/films/2/'],\n",
       "     'gender': 'male',\n",
       "     'hair_color': 'black',\n",
       "     'height': '183',\n",
       "     'homeworld': 'http://swapi.co/api/planets/10/',\n",
       "     'mass': '78.2',\n",
       "     'name': 'Boba Fett',\n",
       "     'skin_color': 'fair',\n",
       "     'species': ['http://swapi.co/api/species/1/'],\n",
       "     'starships': ['http://swapi.co/api/starships/21/'],\n",
       "     'url': 'http://swapi.co/api/people/22/',\n",
       "     'vehicles': []},\n",
       "    '_type': 'people'},\n",
       "   {'_id': '19',\n",
       "    '_index': 'sw',\n",
       "    '_score': 1.0,\n",
       "    '_source': {'birth_year': 'unknown',\n",
       "     'created': '2014-12-12T11:16:56.569000Z',\n",
       "     'edited': '2014-12-20T21:17:50.343000Z',\n",
       "     'eye_color': 'blue',\n",
       "     'films': ['http://swapi.co/api/films/1/'],\n",
       "     'gender': 'male',\n",
       "     'hair_color': 'brown',\n",
       "     'height': '180',\n",
       "     'homeworld': 'http://swapi.co/api/planets/26/',\n",
       "     'mass': '110',\n",
       "     'name': 'Jek Tono Porkins',\n",
       "     'skin_color': 'fair',\n",
       "     'species': ['http://swapi.co/api/species/1/'],\n",
       "     'starships': ['http://swapi.co/api/starships/12/'],\n",
       "     'url': 'http://swapi.co/api/people/19/',\n",
       "     'vehicles': []},\n",
       "    '_type': 'people'},\n",
       "   {'_id': '29',\n",
       "    '_index': 'sw',\n",
       "    '_score': 1.0,\n",
       "    '_source': {'birth_year': 'unknown',\n",
       "     'created': '2014-12-18T11:16:33.020000Z',\n",
       "     'edited': '2014-12-20T21:17:50.367000Z',\n",
       "     'eye_color': 'brown',\n",
       "     'films': ['http://swapi.co/api/films/3/'],\n",
       "     'gender': 'male',\n",
       "     'hair_color': 'brown',\n",
       "     'height': 'unknown',\n",
       "     'homeworld': 'http://swapi.co/api/planets/28/',\n",
       "     'mass': 'unknown',\n",
       "     'name': 'Arvel Crynyd',\n",
       "     'skin_color': 'fair',\n",
       "     'species': ['http://swapi.co/api/species/1/'],\n",
       "     'starships': ['http://swapi.co/api/starships/28/'],\n",
       "     'url': 'http://swapi.co/api/people/29/',\n",
       "     'vehicles': []},\n",
       "    '_type': 'people'},\n",
       "   {'_id': '52',\n",
       "    '_index': 'sw',\n",
       "    '_score': 1.0,\n",
       "    '_source': {'birth_year': '92BBY',\n",
       "     'created': '2014-12-20T10:15:32.293000Z',\n",
       "     'edited': '2014-12-20T21:17:50.422000Z',\n",
       "     'eye_color': 'yellow',\n",
       "     'films': ['http://swapi.co/api/films/5/',\n",
       "      'http://swapi.co/api/films/4/',\n",
       "      'http://swapi.co/api/films/6/'],\n",
       "     'gender': 'male',\n",
       "     'hair_color': 'white',\n",
       "     'height': '198',\n",
       "     'homeworld': 'http://swapi.co/api/planets/43/',\n",
       "     'mass': '82',\n",
       "     'name': 'Ki-Adi-Mundi',\n",
       "     'skin_color': 'pale',\n",
       "     'species': ['http://swapi.co/api/species/20/'],\n",
       "     'starships': [],\n",
       "     'url': 'http://swapi.co/api/people/52/',\n",
       "     'vehicles': []},\n",
       "    '_type': 'people'}],\n",
       "  'max_score': 1.0,\n",
       "  'total': 89},\n",
       " 'timed_out': False,\n",
       " 'took': 2}"
      ]
     },
     "execution_count": 53,
     "metadata": {},
     "output_type": "execute_result"
    }
   ],
   "source": [
    "es.search(index='sw', body={\n",
    "    \"query\" : {\n",
    "        \"match_all\" : {}\n",
    "    }\n",
    "})\n",
    "\n",
    "\n",
    "es"
   ]
  },
  {
   "cell_type": "code",
   "execution_count": 73,
   "metadata": {
    "collapsed": false
   },
   "outputs": [
    {
     "data": {
      "text/plain": [
       "{'_shards': {'failed': 0, 'successful': 5, 'total': 5},\n",
       " 'hits': {'hits': [{'_id': '24',\n",
       "    '_index': 'sw',\n",
       "    '_score': 1.0,\n",
       "    '_source': {'birth_year': '53BBY',\n",
       "     'created': '2014-12-15T12:53:49.297000Z',\n",
       "     'edited': '2014-12-20T21:17:50.355000Z',\n",
       "     'eye_color': 'red',\n",
       "     'films': ['http://swapi.co/api/films/2/'],\n",
       "     'gender': 'male',\n",
       "     'hair_color': 'none',\n",
       "     'height': '190',\n",
       "     'homeworld': 'http://swapi.co/api/planets/29/',\n",
       "     'mass': '113',\n",
       "     'name': 'Bossk',\n",
       "     'skin_color': 'green',\n",
       "     'species': ['http://swapi.co/api/species/7/'],\n",
       "     'starships': [],\n",
       "     'url': 'http://swapi.co/api/people/24/',\n",
       "     'vehicles': []},\n",
       "    '_type': 'people'},\n",
       "   {'_id': '25',\n",
       "    '_index': 'sw',\n",
       "    '_score': 1.0,\n",
       "    '_source': {'birth_year': '31BBY',\n",
       "     'created': '2014-12-15T12:56:32.683000Z',\n",
       "     'edited': '2014-12-20T21:17:50.357000Z',\n",
       "     'eye_color': 'brown',\n",
       "     'films': ['http://swapi.co/api/films/3/', 'http://swapi.co/api/films/2/'],\n",
       "     'gender': 'male',\n",
       "     'hair_color': 'black',\n",
       "     'height': '177',\n",
       "     'homeworld': 'http://swapi.co/api/planets/30/',\n",
       "     'mass': '79',\n",
       "     'name': 'Lando Calrissian',\n",
       "     'skin_color': 'dark',\n",
       "     'species': ['http://swapi.co/api/species/1/'],\n",
       "     'starships': ['http://swapi.co/api/starships/10/'],\n",
       "     'url': 'http://swapi.co/api/people/25/',\n",
       "     'vehicles': []},\n",
       "    '_type': 'people'},\n",
       "   {'_id': '40',\n",
       "    '_index': 'sw',\n",
       "    '_score': 1.0,\n",
       "    '_source': {'birth_year': 'unknown',\n",
       "     'created': '2014-12-19T17:48:54.647000Z',\n",
       "     'edited': '2014-12-20T21:17:50.395000Z',\n",
       "     'eye_color': 'yellow',\n",
       "     'films': ['http://swapi.co/api/films/5/', 'http://swapi.co/api/films/4/'],\n",
       "     'gender': 'male',\n",
       "     'hair_color': 'black',\n",
       "     'height': '137',\n",
       "     'homeworld': 'http://swapi.co/api/planets/34/',\n",
       "     'mass': 'unknown',\n",
       "     'name': 'Watto',\n",
       "     'skin_color': 'blue, grey',\n",
       "     'species': ['http://swapi.co/api/species/13/'],\n",
       "     'starships': [],\n",
       "     'url': 'http://swapi.co/api/people/40/',\n",
       "     'vehicles': []},\n",
       "    '_type': 'people'},\n",
       "   {'_id': '41',\n",
       "    '_index': 'sw',\n",
       "    '_score': 1.0,\n",
       "    '_source': {'birth_year': 'unknown',\n",
       "     'created': '2014-12-19T17:53:02.586000Z',\n",
       "     'edited': '2014-12-20T21:17:50.397000Z',\n",
       "     'eye_color': 'orange',\n",
       "     'films': ['http://swapi.co/api/films/4/'],\n",
       "     'gender': 'male',\n",
       "     'hair_color': 'none',\n",
       "     'height': '112',\n",
       "     'homeworld': 'http://swapi.co/api/planets/35/',\n",
       "     'mass': '40',\n",
       "     'name': 'Sebulba',\n",
       "     'skin_color': 'grey, red',\n",
       "     'species': ['http://swapi.co/api/species/14/'],\n",
       "     'starships': [],\n",
       "     'url': 'http://swapi.co/api/people/41/',\n",
       "     'vehicles': []},\n",
       "    '_type': 'people'},\n",
       "   {'_id': '44',\n",
       "    '_index': 'sw',\n",
       "    '_score': 1.0,\n",
       "    '_source': {'birth_year': '54BBY',\n",
       "     'created': '2014-12-19T18:00:41.929000Z',\n",
       "     'edited': '2014-12-20T21:17:50.403000Z',\n",
       "     'eye_color': 'yellow',\n",
       "     'films': ['http://swapi.co/api/films/4/'],\n",
       "     'gender': 'male',\n",
       "     'hair_color': 'none',\n",
       "     'height': '175',\n",
       "     'homeworld': 'http://swapi.co/api/planets/36/',\n",
       "     'mass': '80',\n",
       "     'name': 'Darth Maul',\n",
       "     'skin_color': 'red',\n",
       "     'species': ['http://swapi.co/api/species/22/'],\n",
       "     'starships': ['http://swapi.co/api/starships/41/'],\n",
       "     'url': 'http://swapi.co/api/people/44/',\n",
       "     'vehicles': ['http://swapi.co/api/vehicles/42/']},\n",
       "    '_type': 'people'},\n",
       "   {'_id': '14',\n",
       "    '_index': 'sw',\n",
       "    '_score': 1.0,\n",
       "    '_source': {'birth_year': '29BBY',\n",
       "     'created': '2014-12-10T16:49:14.582000Z',\n",
       "     'edited': '2014-12-20T21:17:50.334000Z',\n",
       "     'eye_color': 'brown',\n",
       "     'films': ['http://swapi.co/api/films/3/',\n",
       "      'http://swapi.co/api/films/2/',\n",
       "      'http://swapi.co/api/films/1/',\n",
       "      'http://swapi.co/api/films/7/'],\n",
       "     'gender': 'male',\n",
       "     'hair_color': 'brown',\n",
       "     'height': '180',\n",
       "     'homeworld': 'http://swapi.co/api/planets/22/',\n",
       "     'mass': '80',\n",
       "     'name': 'Han Solo',\n",
       "     'skin_color': 'fair',\n",
       "     'species': ['http://swapi.co/api/species/1/'],\n",
       "     'starships': ['http://swapi.co/api/starships/10/',\n",
       "      'http://swapi.co/api/starships/22/'],\n",
       "     'url': 'http://swapi.co/api/people/14/',\n",
       "     'vehicles': []},\n",
       "    '_type': 'people'},\n",
       "   {'_id': '22',\n",
       "    '_index': 'sw',\n",
       "    '_score': 1.0,\n",
       "    '_source': {'birth_year': '31.5BBY',\n",
       "     'created': '2014-12-15T12:49:32.457000Z',\n",
       "     'edited': '2014-12-20T21:17:50.349000Z',\n",
       "     'eye_color': 'brown',\n",
       "     'films': ['http://swapi.co/api/films/5/',\n",
       "      'http://swapi.co/api/films/3/',\n",
       "      'http://swapi.co/api/films/2/'],\n",
       "     'gender': 'male',\n",
       "     'hair_color': 'black',\n",
       "     'height': '183',\n",
       "     'homeworld': 'http://swapi.co/api/planets/10/',\n",
       "     'mass': '78.2',\n",
       "     'name': 'Boba Fett',\n",
       "     'skin_color': 'fair',\n",
       "     'species': ['http://swapi.co/api/species/1/'],\n",
       "     'starships': ['http://swapi.co/api/starships/21/'],\n",
       "     'url': 'http://swapi.co/api/people/22/',\n",
       "     'vehicles': []},\n",
       "    '_type': 'people'},\n",
       "   {'_id': '19',\n",
       "    '_index': 'sw',\n",
       "    '_score': 1.0,\n",
       "    '_source': {'birth_year': 'unknown',\n",
       "     'created': '2014-12-12T11:16:56.569000Z',\n",
       "     'edited': '2014-12-20T21:17:50.343000Z',\n",
       "     'eye_color': 'blue',\n",
       "     'films': ['http://swapi.co/api/films/1/'],\n",
       "     'gender': 'male',\n",
       "     'hair_color': 'brown',\n",
       "     'height': '180',\n",
       "     'homeworld': 'http://swapi.co/api/planets/26/',\n",
       "     'mass': '110',\n",
       "     'name': 'Jek Tono Porkins',\n",
       "     'skin_color': 'fair',\n",
       "     'species': ['http://swapi.co/api/species/1/'],\n",
       "     'starships': ['http://swapi.co/api/starships/12/'],\n",
       "     'url': 'http://swapi.co/api/people/19/',\n",
       "     'vehicles': []},\n",
       "    '_type': 'people'},\n",
       "   {'_id': '29',\n",
       "    '_index': 'sw',\n",
       "    '_score': 1.0,\n",
       "    '_source': {'birth_year': 'unknown',\n",
       "     'created': '2014-12-18T11:16:33.020000Z',\n",
       "     'edited': '2014-12-20T21:17:50.367000Z',\n",
       "     'eye_color': 'brown',\n",
       "     'films': ['http://swapi.co/api/films/3/'],\n",
       "     'gender': 'male',\n",
       "     'hair_color': 'brown',\n",
       "     'height': 'unknown',\n",
       "     'homeworld': 'http://swapi.co/api/planets/28/',\n",
       "     'mass': 'unknown',\n",
       "     'name': 'Arvel Crynyd',\n",
       "     'skin_color': 'fair',\n",
       "     'species': ['http://swapi.co/api/species/1/'],\n",
       "     'starships': ['http://swapi.co/api/starships/28/'],\n",
       "     'url': 'http://swapi.co/api/people/29/',\n",
       "     'vehicles': []},\n",
       "    '_type': 'people'},\n",
       "   {'_id': '52',\n",
       "    '_index': 'sw',\n",
       "    '_score': 1.0,\n",
       "    '_source': {'birth_year': '92BBY',\n",
       "     'created': '2014-12-20T10:15:32.293000Z',\n",
       "     'edited': '2014-12-20T21:17:50.422000Z',\n",
       "     'eye_color': 'yellow',\n",
       "     'films': ['http://swapi.co/api/films/5/',\n",
       "      'http://swapi.co/api/films/4/',\n",
       "      'http://swapi.co/api/films/6/'],\n",
       "     'gender': 'male',\n",
       "     'hair_color': 'white',\n",
       "     'height': '198',\n",
       "     'homeworld': 'http://swapi.co/api/planets/43/',\n",
       "     'mass': '82',\n",
       "     'name': 'Ki-Adi-Mundi',\n",
       "     'skin_color': 'pale',\n",
       "     'species': ['http://swapi.co/api/species/20/'],\n",
       "     'starships': [],\n",
       "     'url': 'http://swapi.co/api/people/52/',\n",
       "     'vehicles': []},\n",
       "    '_type': 'people'}],\n",
       "  'max_score': 1.0,\n",
       "  'total': 89},\n",
       " 'timed_out': False,\n",
       " 'took': 1}"
      ]
     },
     "execution_count": 73,
     "metadata": {},
     "output_type": "execute_result"
    }
   ],
   "source": [
    "Search(using=es, index='sw').query('match_all').execute().to_dict()"
   ]
  },
  {
   "cell_type": "code",
   "execution_count": 81,
   "metadata": {
    "collapsed": false,
    "scrolled": true
   },
   "outputs": [
    {
     "ename": "RequestError",
     "evalue": "TransportError(400, 'search_phase_execution_exception', 'failed to parse search source. unknown search element [multi_match]')",
     "output_type": "error",
     "traceback": [
      "\u001b[1;31m---------------------------------------------------------------------------\u001b[0m",
      "\u001b[1;31mRequestError\u001b[0m                              Traceback (most recent call last)",
      "\u001b[1;32m<ipython-input-81-e500ad65f497>\u001b[0m in \u001b[0;36m<module>\u001b[1;34m()\u001b[0m\n\u001b[1;32m----> 1\u001b[1;33m \u001b[0mes\u001b[0m\u001b[1;33m.\u001b[0m\u001b[0msearch\u001b[0m\u001b[1;33m(\u001b[0m\u001b[0mindex\u001b[0m\u001b[1;33m=\u001b[0m\u001b[1;34m'sw'\u001b[0m\u001b[1;33m,\u001b[0m \u001b[0mbody\u001b[0m\u001b[1;33m=\u001b[0m\u001b[1;33m{\u001b[0m\u001b[1;34m\"multi_match\"\u001b[0m\u001b[1;33m:\u001b[0m \u001b[1;33m{\u001b[0m\u001b[1;34m\"fields\"\u001b[0m\u001b[1;33m:\u001b[0m \u001b[1;33m[\u001b[0m\u001b[1;34m\"_all\"\u001b[0m\u001b[1;33m]\u001b[0m\u001b[1;33m,\u001b[0m \u001b[1;34m\"query\"\u001b[0m\u001b[1;33m:\u001b[0m \u001b[1;34m\"jaba\"\u001b[0m\u001b[1;33m,\u001b[0m \u001b[1;34m\"fuzziness\"\u001b[0m\u001b[1;33m:\u001b[0m \u001b[1;34m\"AUTO\"\u001b[0m\u001b[1;33m}\u001b[0m\u001b[1;33m}\u001b[0m\u001b[1;33m)\u001b[0m\u001b[1;33m\u001b[0m\u001b[0m\n\u001b[0m",
      "\u001b[1;32m/home/i008/anaconda3/lib/python3.5/site-packages/elasticsearch/client/utils.py\u001b[0m in \u001b[0;36m_wrapped\u001b[1;34m(*args, **kwargs)\u001b[0m\n\u001b[0;32m     69\u001b[0m                 \u001b[1;32mif\u001b[0m \u001b[0mp\u001b[0m \u001b[1;32min\u001b[0m \u001b[0mkwargs\u001b[0m\u001b[1;33m:\u001b[0m\u001b[1;33m\u001b[0m\u001b[0m\n\u001b[0;32m     70\u001b[0m                     \u001b[0mparams\u001b[0m\u001b[1;33m[\u001b[0m\u001b[0mp\u001b[0m\u001b[1;33m]\u001b[0m \u001b[1;33m=\u001b[0m \u001b[0mkwargs\u001b[0m\u001b[1;33m.\u001b[0m\u001b[0mpop\u001b[0m\u001b[1;33m(\u001b[0m\u001b[0mp\u001b[0m\u001b[1;33m)\u001b[0m\u001b[1;33m\u001b[0m\u001b[0m\n\u001b[1;32m---> 71\u001b[1;33m             \u001b[1;32mreturn\u001b[0m \u001b[0mfunc\u001b[0m\u001b[1;33m(\u001b[0m\u001b[1;33m*\u001b[0m\u001b[0margs\u001b[0m\u001b[1;33m,\u001b[0m \u001b[0mparams\u001b[0m\u001b[1;33m=\u001b[0m\u001b[0mparams\u001b[0m\u001b[1;33m,\u001b[0m \u001b[1;33m**\u001b[0m\u001b[0mkwargs\u001b[0m\u001b[1;33m)\u001b[0m\u001b[1;33m\u001b[0m\u001b[0m\n\u001b[0m\u001b[0;32m     72\u001b[0m         \u001b[1;32mreturn\u001b[0m \u001b[0m_wrapped\u001b[0m\u001b[1;33m\u001b[0m\u001b[0m\n\u001b[0;32m     73\u001b[0m     \u001b[1;32mreturn\u001b[0m \u001b[0m_wrapper\u001b[0m\u001b[1;33m\u001b[0m\u001b[0m\n",
      "\u001b[1;32m/home/i008/anaconda3/lib/python3.5/site-packages/elasticsearch/client/__init__.py\u001b[0m in \u001b[0;36msearch\u001b[1;34m(self, index, doc_type, body, params)\u001b[0m\n\u001b[0;32m    567\u001b[0m             \u001b[0mindex\u001b[0m \u001b[1;33m=\u001b[0m \u001b[1;34m'_all'\u001b[0m\u001b[1;33m\u001b[0m\u001b[0m\n\u001b[0;32m    568\u001b[0m         return self.transport.perform_request('GET', _make_path(index,\n\u001b[1;32m--> 569\u001b[1;33m             doc_type, '_search'), params=params, body=body)\n\u001b[0m\u001b[0;32m    570\u001b[0m \u001b[1;33m\u001b[0m\u001b[0m\n\u001b[0;32m    571\u001b[0m     @query_params('_source', '_source_exclude', '_source_include',\n",
      "\u001b[1;32m/home/i008/anaconda3/lib/python3.5/site-packages/elasticsearch/transport.py\u001b[0m in \u001b[0;36mperform_request\u001b[1;34m(self, method, url, params, body)\u001b[0m\n\u001b[0;32m    325\u001b[0m \u001b[1;33m\u001b[0m\u001b[0m\n\u001b[0;32m    326\u001b[0m             \u001b[1;32mtry\u001b[0m\u001b[1;33m:\u001b[0m\u001b[1;33m\u001b[0m\u001b[0m\n\u001b[1;32m--> 327\u001b[1;33m                 \u001b[0mstatus\u001b[0m\u001b[1;33m,\u001b[0m \u001b[0mheaders\u001b[0m\u001b[1;33m,\u001b[0m \u001b[0mdata\u001b[0m \u001b[1;33m=\u001b[0m \u001b[0mconnection\u001b[0m\u001b[1;33m.\u001b[0m\u001b[0mperform_request\u001b[0m\u001b[1;33m(\u001b[0m\u001b[0mmethod\u001b[0m\u001b[1;33m,\u001b[0m \u001b[0murl\u001b[0m\u001b[1;33m,\u001b[0m \u001b[0mparams\u001b[0m\u001b[1;33m,\u001b[0m \u001b[0mbody\u001b[0m\u001b[1;33m,\u001b[0m \u001b[0mignore\u001b[0m\u001b[1;33m=\u001b[0m\u001b[0mignore\u001b[0m\u001b[1;33m,\u001b[0m \u001b[0mtimeout\u001b[0m\u001b[1;33m=\u001b[0m\u001b[0mtimeout\u001b[0m\u001b[1;33m)\u001b[0m\u001b[1;33m\u001b[0m\u001b[0m\n\u001b[0m\u001b[0;32m    328\u001b[0m \u001b[1;33m\u001b[0m\u001b[0m\n\u001b[0;32m    329\u001b[0m             \u001b[1;32mexcept\u001b[0m \u001b[0mTransportError\u001b[0m \u001b[1;32mas\u001b[0m \u001b[0me\u001b[0m\u001b[1;33m:\u001b[0m\u001b[1;33m\u001b[0m\u001b[0m\n",
      "\u001b[1;32m/home/i008/anaconda3/lib/python3.5/site-packages/elasticsearch/connection/http_urllib3.py\u001b[0m in \u001b[0;36mperform_request\u001b[1;34m(self, method, url, params, body, timeout, ignore)\u001b[0m\n\u001b[0;32m    122\u001b[0m         \u001b[1;32mif\u001b[0m \u001b[1;32mnot\u001b[0m \u001b[1;33m(\u001b[0m\u001b[1;36m200\u001b[0m \u001b[1;33m<=\u001b[0m \u001b[0mresponse\u001b[0m\u001b[1;33m.\u001b[0m\u001b[0mstatus\u001b[0m \u001b[1;33m<\u001b[0m \u001b[1;36m300\u001b[0m\u001b[1;33m)\u001b[0m \u001b[1;32mand\u001b[0m \u001b[0mresponse\u001b[0m\u001b[1;33m.\u001b[0m\u001b[0mstatus\u001b[0m \u001b[1;32mnot\u001b[0m \u001b[1;32min\u001b[0m \u001b[0mignore\u001b[0m\u001b[1;33m:\u001b[0m\u001b[1;33m\u001b[0m\u001b[0m\n\u001b[0;32m    123\u001b[0m             \u001b[0mself\u001b[0m\u001b[1;33m.\u001b[0m\u001b[0mlog_request_fail\u001b[0m\u001b[1;33m(\u001b[0m\u001b[0mmethod\u001b[0m\u001b[1;33m,\u001b[0m \u001b[0mfull_url\u001b[0m\u001b[1;33m,\u001b[0m \u001b[0murl\u001b[0m\u001b[1;33m,\u001b[0m \u001b[0mbody\u001b[0m\u001b[1;33m,\u001b[0m \u001b[0mduration\u001b[0m\u001b[1;33m,\u001b[0m \u001b[0mresponse\u001b[0m\u001b[1;33m.\u001b[0m\u001b[0mstatus\u001b[0m\u001b[1;33m,\u001b[0m \u001b[0mraw_data\u001b[0m\u001b[1;33m)\u001b[0m\u001b[1;33m\u001b[0m\u001b[0m\n\u001b[1;32m--> 124\u001b[1;33m             \u001b[0mself\u001b[0m\u001b[1;33m.\u001b[0m\u001b[0m_raise_error\u001b[0m\u001b[1;33m(\u001b[0m\u001b[0mresponse\u001b[0m\u001b[1;33m.\u001b[0m\u001b[0mstatus\u001b[0m\u001b[1;33m,\u001b[0m \u001b[0mraw_data\u001b[0m\u001b[1;33m)\u001b[0m\u001b[1;33m\u001b[0m\u001b[0m\n\u001b[0m\u001b[0;32m    125\u001b[0m \u001b[1;33m\u001b[0m\u001b[0m\n\u001b[0;32m    126\u001b[0m         self.log_request_success(method, full_url, url, body, response.status,\n",
      "\u001b[1;32m/home/i008/anaconda3/lib/python3.5/site-packages/elasticsearch/connection/base.py\u001b[0m in \u001b[0;36m_raise_error\u001b[1;34m(self, status_code, raw_data)\u001b[0m\n\u001b[0;32m    120\u001b[0m             \u001b[0mlogger\u001b[0m\u001b[1;33m.\u001b[0m\u001b[0mwarning\u001b[0m\u001b[1;33m(\u001b[0m\u001b[1;34m'Undecodable raw error response from server: %s'\u001b[0m\u001b[1;33m,\u001b[0m \u001b[0merr\u001b[0m\u001b[1;33m)\u001b[0m\u001b[1;33m\u001b[0m\u001b[0m\n\u001b[0;32m    121\u001b[0m \u001b[1;33m\u001b[0m\u001b[0m\n\u001b[1;32m--> 122\u001b[1;33m         \u001b[1;32mraise\u001b[0m \u001b[0mHTTP_EXCEPTIONS\u001b[0m\u001b[1;33m.\u001b[0m\u001b[0mget\u001b[0m\u001b[1;33m(\u001b[0m\u001b[0mstatus_code\u001b[0m\u001b[1;33m,\u001b[0m \u001b[0mTransportError\u001b[0m\u001b[1;33m)\u001b[0m\u001b[1;33m(\u001b[0m\u001b[0mstatus_code\u001b[0m\u001b[1;33m,\u001b[0m \u001b[0merror_message\u001b[0m\u001b[1;33m,\u001b[0m \u001b[0madditional_info\u001b[0m\u001b[1;33m)\u001b[0m\u001b[1;33m\u001b[0m\u001b[0m\n\u001b[0m\u001b[0;32m    123\u001b[0m \u001b[1;33m\u001b[0m\u001b[0m\n\u001b[0;32m    124\u001b[0m \u001b[1;33m\u001b[0m\u001b[0m\n",
      "\u001b[1;31mRequestError\u001b[0m: TransportError(400, 'search_phase_execution_exception', 'failed to parse search source. unknown search element [multi_match]')"
     ]
    }
   ],
   "source": [
    "es.search(index='sw', body={\"multi_match\": {\"fields\": [\"_all\"], \"query\": \"jaba\", \"fuzziness\": \"AUTO\"}})"
   ]
  },
  {
   "cell_type": "code",
   "execution_count": 95,
   "metadata": {
    "collapsed": false
   },
   "outputs": [
    {
     "ename": "AttributeError",
     "evalue": "'MultiSearch' object has no attribute 'match'",
     "output_type": "error",
     "traceback": [
      "\u001b[1;31m---------------------------------------------------------------------------\u001b[0m",
      "\u001b[1;31mAttributeError\u001b[0m                            Traceback (most recent call last)",
      "\u001b[1;32m<ipython-input-95-727353e8e881>\u001b[0m in \u001b[0;36m<module>\u001b[1;34m()\u001b[0m\n\u001b[0;32m      6\u001b[0m \u001b[1;33m\u001b[0m\u001b[0m\n\u001b[0;32m      7\u001b[0m \u001b[1;33m\u001b[0m\u001b[0m\n\u001b[1;32m----> 8\u001b[1;33m \u001b[0mMultiSearch\u001b[0m\u001b[1;33m(\u001b[0m\u001b[0musing\u001b[0m\u001b[1;33m=\u001b[0m\u001b[0mes\u001b[0m\u001b[1;33m,\u001b[0m \u001b[0mindex\u001b[0m\u001b[1;33m=\u001b[0m\u001b[1;34m'sw'\u001b[0m\u001b[1;33m)\u001b[0m\u001b[1;33m.\u001b[0m\u001b[0mmatch\u001b[0m\u001b[1;33m(\u001b[0m\u001b[1;33m{\u001b[0m\u001b[1;34m\"fields\"\u001b[0m\u001b[1;33m:\u001b[0m \u001b[1;33m[\u001b[0m\u001b[1;34m\"_all\"\u001b[0m\u001b[1;33m]\u001b[0m\u001b[1;33m,\u001b[0m \u001b[1;34m\"query\"\u001b[0m\u001b[1;33m:\u001b[0m \u001b[1;34m\"-wan\"\u001b[0m\u001b[1;33m,\u001b[0m \u001b[1;34m\"fuzziness\"\u001b[0m\u001b[1;33m:\u001b[0m \u001b[1;34m\"AUTO\"\u001b[0m\u001b[1;33m}\u001b[0m\u001b[1;33m)\u001b[0m\u001b[1;33m\u001b[0m\u001b[0m\n\u001b[0m",
      "\u001b[1;31mAttributeError\u001b[0m: 'MultiSearch' object has no attribute 'match'"
     ]
    }
   ],
   "source": [
    "# es.search(index='sw', body={\n",
    "#     \"query\" : {\n",
    "#         \"multi_match\": {\"fields\": [\"_all\"], \"query\": \"-wan\", \"fuzziness\": \"AUTO\"}}\n",
    "#     }\n",
    "# )\n",
    "\n",
    "\n",
    "MultiSearch(using=es, index='sw').match({\"fields\": [\"_all\"], \"query\": \"-wan\", \"fuzziness\": \"AUTO\"})"
   ]
  },
  {
   "cell_type": "code",
   "execution_count": 110,
   "metadata": {
    "collapsed": false
   },
   "outputs": [
    {
     "data": {
      "text/plain": [
       "{'_shards': {'failed': 0, 'successful': 5, 'total': 5},\n",
       " 'hits': {'hits': [{'_id': '19',\n",
       "    '_index': 'sw',\n",
       "    '_score': 2.734601,\n",
       "    '_source': {'birth_year': 'unknown',\n",
       "     'created': '2014-12-12T11:16:56.569000Z',\n",
       "     'edited': '2014-12-20T21:17:50.343000Z',\n",
       "     'eye_color': 'blue',\n",
       "     'films': ['http://swapi.co/api/films/1/'],\n",
       "     'gender': 'male',\n",
       "     'hair_color': 'brown',\n",
       "     'height': '180',\n",
       "     'homeworld': 'http://swapi.co/api/planets/26/',\n",
       "     'mass': '110',\n",
       "     'name': 'Jek Tono Porkins',\n",
       "     'skin_color': 'fair',\n",
       "     'species': ['http://swapi.co/api/species/1/'],\n",
       "     'starships': ['http://swapi.co/api/starships/12/'],\n",
       "     'url': 'http://swapi.co/api/people/19/',\n",
       "     'vehicles': []},\n",
       "    '_type': 'people'},\n",
       "   {'_id': '26',\n",
       "    '_index': 'sw',\n",
       "    '_score': 2.734601,\n",
       "    '_source': {'birth_year': '37BBY',\n",
       "     'created': '2014-12-15T13:01:57.178000Z',\n",
       "     'edited': '2014-12-20T21:17:50.359000Z',\n",
       "     'eye_color': 'blue',\n",
       "     'films': ['http://swapi.co/api/films/2/'],\n",
       "     'gender': 'male',\n",
       "     'hair_color': 'none',\n",
       "     'height': '175',\n",
       "     'homeworld': 'http://swapi.co/api/planets/6/',\n",
       "     'mass': '79',\n",
       "     'name': 'Lobot',\n",
       "     'skin_color': 'light',\n",
       "     'species': ['http://swapi.co/api/species/1/'],\n",
       "     'starships': [],\n",
       "     'url': 'http://swapi.co/api/people/26/',\n",
       "     'vehicles': []},\n",
       "    '_type': 'people'},\n",
       "   {'_id': '11',\n",
       "    '_index': 'sw',\n",
       "    '_score': 2.4350846,\n",
       "    '_source': {'birth_year': '41.9BBY',\n",
       "     'created': '2014-12-10T16:20:44.310000Z',\n",
       "     'edited': '2014-12-20T21:17:50.327000Z',\n",
       "     'eye_color': 'blue',\n",
       "     'films': ['http://swapi.co/api/films/5/',\n",
       "      'http://swapi.co/api/films/4/',\n",
       "      'http://swapi.co/api/films/6/'],\n",
       "     'gender': 'male',\n",
       "     'hair_color': 'blond',\n",
       "     'height': '188',\n",
       "     'homeworld': 'http://swapi.co/api/planets/1/',\n",
       "     'mass': '84',\n",
       "     'name': 'Anakin Skywalker',\n",
       "     'skin_color': 'fair',\n",
       "     'species': ['http://swapi.co/api/species/1/'],\n",
       "     'starships': ['http://swapi.co/api/starships/59/',\n",
       "      'http://swapi.co/api/starships/65/',\n",
       "      'http://swapi.co/api/starships/39/'],\n",
       "     'url': 'http://swapi.co/api/people/11/',\n",
       "     'vehicles': ['http://swapi.co/api/vehicles/44/',\n",
       "      'http://swapi.co/api/vehicles/46/']},\n",
       "    '_type': 'people'},\n",
       "   {'_id': '64',\n",
       "    '_index': 'sw',\n",
       "    '_score': 2.4350846,\n",
       "    '_source': {'birth_year': '58BBY',\n",
       "     'created': '2014-12-20T16:45:53.668000Z',\n",
       "     'edited': '2014-12-20T21:17:50.455000Z',\n",
       "     'eye_color': 'blue',\n",
       "     'films': ['http://swapi.co/api/films/5/', 'http://swapi.co/api/films/6/'],\n",
       "     'gender': 'female',\n",
       "     'hair_color': 'black',\n",
       "     'height': '170',\n",
       "     'homeworld': 'http://swapi.co/api/planets/51/',\n",
       "     'mass': '56.2',\n",
       "     'name': 'Luminara Unduli',\n",
       "     'skin_color': 'yellow',\n",
       "     'species': ['http://swapi.co/api/species/29/'],\n",
       "     'starships': [],\n",
       "     'url': 'http://swapi.co/api/people/64/',\n",
       "     'vehicles': []},\n",
       "    '_type': 'people'},\n",
       "   {'_id': '74',\n",
       "    '_index': 'sw',\n",
       "    '_score': 2.4350846,\n",
       "    '_source': {'birth_year': 'unknown',\n",
       "     'created': '2014-12-20T17:32:51.996000Z',\n",
       "     'edited': '2014-12-20T21:17:50.476000Z',\n",
       "     'eye_color': 'blue',\n",
       "     'films': ['http://swapi.co/api/films/5/'],\n",
       "     'gender': 'female',\n",
       "     'hair_color': 'white',\n",
       "     'height': '167',\n",
       "     'homeworld': 'http://swapi.co/api/planets/9/',\n",
       "     'mass': 'unknown',\n",
       "     'name': 'Jocasta Nu',\n",
       "     'skin_color': 'fair',\n",
       "     'species': ['http://swapi.co/api/species/1/'],\n",
       "     'starships': [],\n",
       "     'url': 'http://swapi.co/api/people/74/',\n",
       "     'vehicles': []},\n",
       "    '_type': 'people'},\n",
       "   {'_id': '6',\n",
       "    '_index': 'sw',\n",
       "    '_score': 2.3862944,\n",
       "    '_source': {'birth_year': '52BBY',\n",
       "     'created': '2014-12-10T15:52:14.024000Z',\n",
       "     'edited': '2014-12-20T21:17:50.317000Z',\n",
       "     'eye_color': 'blue',\n",
       "     'films': ['http://swapi.co/api/films/5/',\n",
       "      'http://swapi.co/api/films/6/',\n",
       "      'http://swapi.co/api/films/1/'],\n",
       "     'gender': 'male',\n",
       "     'hair_color': 'brown, grey',\n",
       "     'height': '178',\n",
       "     'homeworld': 'http://swapi.co/api/planets/1/',\n",
       "     'mass': '120',\n",
       "     'name': 'Owen Lars',\n",
       "     'skin_color': 'light',\n",
       "     'species': ['http://swapi.co/api/species/1/'],\n",
       "     'starships': [],\n",
       "     'url': 'http://swapi.co/api/people/6/',\n",
       "     'vehicles': []},\n",
       "    '_type': 'people'},\n",
       "   {'_id': '55',\n",
       "    '_index': 'sw',\n",
       "    '_score': 2.3862944,\n",
       "    '_source': {'birth_year': 'unknown',\n",
       "     'created': '2014-12-20T10:29:11.661000Z',\n",
       "     'edited': '2014-12-20T21:17:50.432000Z',\n",
       "     'eye_color': 'blue',\n",
       "     'films': ['http://swapi.co/api/films/4/', 'http://swapi.co/api/films/6/'],\n",
       "     'gender': 'female',\n",
       "     'hair_color': 'none',\n",
       "     'height': '184',\n",
       "     'homeworld': 'http://swapi.co/api/planets/9/',\n",
       "     'mass': '50',\n",
       "     'name': 'Adi Gallia',\n",
       "     'skin_color': 'dark',\n",
       "     'species': ['http://swapi.co/api/species/23/'],\n",
       "     'starships': [],\n",
       "     'url': 'http://swapi.co/api/people/55/',\n",
       "     'vehicles': []},\n",
       "    '_type': 'people'},\n",
       "   {'_id': '80',\n",
       "    '_index': 'sw',\n",
       "    '_score': 2.3862944,\n",
       "    '_source': {'birth_year': 'unknown',\n",
       "     'created': '2014-12-20T19:46:34.209000Z',\n",
       "     'edited': '2014-12-20T21:17:50.491000Z',\n",
       "     'eye_color': 'blue',\n",
       "     'films': ['http://swapi.co/api/films/6/'],\n",
       "     'gender': 'male',\n",
       "     'hair_color': 'brown',\n",
       "     'height': '234',\n",
       "     'homeworld': 'http://swapi.co/api/planets/14/',\n",
       "     'mass': '136',\n",
       "     'name': 'Tarfful',\n",
       "     'skin_color': 'brown',\n",
       "     'species': ['http://swapi.co/api/species/3/'],\n",
       "     'starships': [],\n",
       "     'url': 'http://swapi.co/api/people/80/',\n",
       "     'vehicles': []},\n",
       "    '_type': 'people'},\n",
       "   {'_id': '13',\n",
       "    '_index': 'sw',\n",
       "    '_score': 1.9808292,\n",
       "    '_source': {'birth_year': '200BBY',\n",
       "     'created': '2014-12-10T16:42:45.066000Z',\n",
       "     'edited': '2014-12-20T21:17:50.332000Z',\n",
       "     'eye_color': 'blue',\n",
       "     'films': ['http://swapi.co/api/films/6/',\n",
       "      'http://swapi.co/api/films/3/',\n",
       "      'http://swapi.co/api/films/2/',\n",
       "      'http://swapi.co/api/films/1/',\n",
       "      'http://swapi.co/api/films/7/'],\n",
       "     'gender': 'male',\n",
       "     'hair_color': 'brown',\n",
       "     'height': '228',\n",
       "     'homeworld': 'http://swapi.co/api/planets/14/',\n",
       "     'mass': '112',\n",
       "     'name': 'Chewbacca',\n",
       "     'skin_color': 'unknown',\n",
       "     'species': ['http://swapi.co/api/species/3/'],\n",
       "     'starships': ['http://swapi.co/api/starships/10/',\n",
       "      'http://swapi.co/api/starships/22/'],\n",
       "     'url': 'http://swapi.co/api/people/13/',\n",
       "     'vehicles': ['http://swapi.co/api/vehicles/19/']},\n",
       "    '_type': 'people'},\n",
       "   {'_id': '1',\n",
       "    '_index': 'sw',\n",
       "    '_score': 1.9808292,\n",
       "    '_source': {'birth_year': '19BBY',\n",
       "     'created': '2014-12-09T13:50:51.644000Z',\n",
       "     'edited': '2014-12-20T21:17:56.891000Z',\n",
       "     'eye_color': 'blue',\n",
       "     'films': ['http://swapi.co/api/films/6/',\n",
       "      'http://swapi.co/api/films/3/',\n",
       "      'http://swapi.co/api/films/2/',\n",
       "      'http://swapi.co/api/films/1/',\n",
       "      'http://swapi.co/api/films/7/'],\n",
       "     'gender': 'male',\n",
       "     'hair_color': 'blond',\n",
       "     'height': '172',\n",
       "     'homeworld': 'http://swapi.co/api/planets/1/',\n",
       "     'mass': '77',\n",
       "     'name': 'Luke Skywalker',\n",
       "     'skin_color': 'fair',\n",
       "     'species': ['http://swapi.co/api/species/1/'],\n",
       "     'starships': ['http://swapi.co/api/starships/12/',\n",
       "      'http://swapi.co/api/starships/22/'],\n",
       "     'url': 'http://swapi.co/api/people/1/',\n",
       "     'vehicles': ['http://swapi.co/api/vehicles/14/',\n",
       "      'http://swapi.co/api/vehicles/30/']},\n",
       "    '_type': 'people'}],\n",
       "  'max_score': 2.734601,\n",
       "  'total': 21},\n",
       " 'timed_out': False,\n",
       " 'took': 7}"
      ]
     },
     "execution_count": 110,
     "metadata": {},
     "output_type": "execute_result"
    }
   ],
   "source": [
    "# es.index(index='test', doc_type='bla', body=[{'a':'b'}])\n",
    "\n",
    "\n",
    "# es.index(index='test2',doc_type='str',body={'a':'b'})\n",
    "\n",
    "\n",
    "es.search(index='sw', doc_type=None, body={'query':{'match':{\"eye_color\":'blue'}}})"
   ]
  },
  {
   "cell_type": "code",
   "execution_count": 129,
   "metadata": {
    "collapsed": false
   },
   "outputs": [],
   "source": [
    "random_dict = {i:k for k,i in enumerate('abcd')}"
   ]
  },
  {
   "cell_type": "code",
   "execution_count": 144,
   "metadata": {
    "collapsed": false
   },
   "outputs": [
    {
     "data": {
      "text/plain": [
       "{'_id': 'AVg_Dh_S_B7S2ac22Wvm',\n",
       " '_index': 'sw',\n",
       " '_shards': {'failed': 0, 'successful': 1, 'total': 2},\n",
       " '_type': 'rnd',\n",
       " '_version': 1,\n",
       " 'created': True}"
      ]
     },
     "execution_count": 144,
     "metadata": {},
     "output_type": "execute_result"
    }
   ],
   "source": [
    "es.index(index='sw', doc_type='rnd',body={'randomshit':'randomvalue'})"
   ]
  },
  {
   "cell_type": "code",
   "execution_count": 168,
   "metadata": {
    "collapsed": false
   },
   "outputs": [
    {
     "data": {
      "text/plain": [
       "{'_id': '999',\n",
       " '_index': 'sw',\n",
       " '_shards': {'failed': 0, 'successful': 1, 'total': 2},\n",
       " '_type': 'whatever',\n",
       " '_version': 4,\n",
       " 'created': False}"
      ]
     },
     "execution_count": 168,
     "metadata": {},
     "output_type": "execute_result"
    }
   ],
   "source": [
    "es.index(index='sw', doc_type='whatever',id=999, body={'r100':{'r2':'r3'}, 'bla':['1','2','3'], 'sra':{'a':'b'}})"
   ]
  },
  {
   "cell_type": "code",
   "execution_count": 165,
   "metadata": {
    "collapsed": false
   },
   "outputs": [
    {
     "data": {
      "text/plain": [
       "{'_id': '999',\n",
       " '_index': 'sw',\n",
       " '_source': {'r1': {'r2': 'r3'}},\n",
       " '_type': 'whatever',\n",
       " '_version': 1,\n",
       " 'found': True}"
      ]
     },
     "execution_count": 165,
     "metadata": {},
     "output_type": "execute_result"
    }
   ],
   "source": [
    "es.get('sw',999)"
   ]
  },
  {
   "cell_type": "code",
   "execution_count": 173,
   "metadata": {
    "collapsed": false
   },
   "outputs": [
    {
     "data": {
      "text/plain": [
       "{'_id': 'AVg_Oo6GuPCvVr-LxkuM',\n",
       " '_index': 'sw',\n",
       " '_shards': {'failed': 0, 'successful': 1, 'total': 2},\n",
       " '_type': 'sw_doc',\n",
       " '_version': 1,\n",
       " 'created': True}"
      ]
     },
     "execution_count": 173,
     "metadata": {},
     "output_type": "execute_result"
    }
   ],
   "source": [
    "es.index(index='sw',doc_type='sw_doc', body={'aaa':'toszukam'})"
   ]
  },
  {
   "cell_type": "code",
   "execution_count": 187,
   "metadata": {
    "collapsed": false
   },
   "outputs": [
    {
     "data": {
      "text/plain": [
       "{'_shards': {'failed': 0, 'successful': 5, 'total': 5},\n",
       " 'hits': {'hits': [{'_id': 'AVg_OeYSuPCvVr-LxkuL',\n",
       "    '_index': 'sw',\n",
       "    '_score': 1.6931472,\n",
       "    '_source': {'aaa': 'toszukam'},\n",
       "    '_type': 'sw_doc'},\n",
       "   {'_id': 'AVg_Oo6GuPCvVr-LxkuM',\n",
       "    '_index': 'sw',\n",
       "    '_score': 1.6931472,\n",
       "    '_source': {'aaa': 'toszukam'},\n",
       "    '_type': 'sw_doc'}],\n",
       "  'max_score': 1.6931472,\n",
       "  'total': 2},\n",
       " 'timed_out': False,\n",
       " 'took': 2}"
      ]
     },
     "execution_count": 187,
     "metadata": {},
     "output_type": "execute_result"
    }
   ],
   "source": [
    "res = es.search(index='sw',doc_type='sw_doc',body={'query':{'match':{\"aaa\":\"toszukam\"}}})\n",
    "res"
   ]
  },
  {
   "cell_type": "code",
   "execution_count": 195,
   "metadata": {
    "collapsed": false
   },
   "outputs": [
    {
     "data": {
      "text/plain": [
       "{'_shards': {'failed': 0, 'successful': 5, 'total': 5},\n",
       " 'hits': {'hits': [{'_id': '4',\n",
       "    '_index': 'sw',\n",
       "    '_score': 0.39406553,\n",
       "    '_source': {'birth_year': '41.9BBY',\n",
       "     'created': '2014-12-10T15:18:20.704000Z',\n",
       "     'edited': '2014-12-20T21:17:50.313000Z',\n",
       "     'eye_color': 'yellow',\n",
       "     'films': ['http://swapi.co/api/films/6/',\n",
       "      'http://swapi.co/api/films/3/',\n",
       "      'http://swapi.co/api/films/2/',\n",
       "      'http://swapi.co/api/films/1/'],\n",
       "     'gender': 'male',\n",
       "     'hair_color': 'none',\n",
       "     'height': '202',\n",
       "     'homeworld': 'http://swapi.co/api/planets/1/',\n",
       "     'mass': '136',\n",
       "     'name': 'Darth Vader',\n",
       "     'skin_color': 'white',\n",
       "     'species': ['http://swapi.co/api/species/1/'],\n",
       "     'starships': ['http://swapi.co/api/starships/13/'],\n",
       "     'url': 'http://swapi.co/api/people/4/',\n",
       "     'vehicles': []},\n",
       "    '_type': 'people'}],\n",
       "  'max_score': 0.39406553,\n",
       "  'total': 1},\n",
       " 'timed_out': False,\n",
       " 'took': 5}"
      ]
     },
     "execution_count": 195,
     "metadata": {},
     "output_type": "execute_result"
    }
   ],
   "source": [
    "es.search(index='sw',body={'query':{'match':{'name':'Darth Maul'}}})"
   ]
  },
  {
   "cell_type": "code",
   "execution_count": 203,
   "metadata": {
    "collapsed": false
   },
   "outputs": [
    {
     "data": {
      "text/plain": [
       "{'_id': 'AVg_RyNQuPCvVr-LxkuP',\n",
       " '_index': 'test',\n",
       " '_shards': {'failed': 0, 'successful': 1, 'total': 2},\n",
       " '_type': 'test2',\n",
       " '_version': 1,\n",
       " 'created': True}"
      ]
     },
     "execution_count": 203,
     "metadata": {},
     "output_type": "execute_result"
    }
   ],
   "source": [
    "es.index(index='test',doc_type='test2', body={'zacoto':\"100000.0\"})"
   ]
  },
  {
   "cell_type": "code",
   "execution_count": 197,
   "metadata": {
    "collapsed": true
   },
   "outputs": [],
   "source": [
    "r = requests.get('http://swapi.co/api/people/1')\n",
    "    "
   ]
  },
  {
   "cell_type": "code",
   "execution_count": 205,
   "metadata": {
    "collapsed": false
   },
   "outputs": [],
   "source": [
    "M = json.loads(r.text)"
   ]
  },
  {
   "cell_type": "code",
   "execution_count": 208,
   "metadata": {
    "collapsed": false
   },
   "outputs": [],
   "source": [
    "for k in M:\n",
    "    try:\n",
    "        M[k] = float(M[k])\n",
    "    except:\n",
    "        pass"
   ]
  },
  {
   "cell_type": "code",
   "execution_count": null,
   "metadata": {
    "collapsed": false
   },
   "outputs": [],
   "source": []
  },
  {
   "cell_type": "code",
   "execution_count": 161,
   "metadata": {
    "collapsed": false
   },
   "outputs": [],
   "source": [
    "import logging\n",
    "\n",
    "logger = logging.getLogger('lgsth')\n",
    "logger.addHandler(logstash.TCPLogstashHandler('localhost', port=5959))\n",
    "logger.setLevel(logging.DEBUG)\n",
    "logger.debug('bla')\n",
    "    \n"
   ]
  },
  {
   "cell_type": "code",
   "execution_count": 179,
   "metadata": {
    "collapsed": true
   },
   "outputs": [],
   "source": [
    "import logging\n",
    "import logstash\n",
    "import sys\n",
    "\n",
    "host = '0.0.0.0'\n",
    "\n",
    "test_logger = logging.getLogger('python-logstash-logger')\n",
    "test_logger.setLevel(logging.INFO)\n",
    "logstash.UDPLogstashHandler('0.0.0.0', 5959)\n",
    "test_logger.addHandler(logstash.UDPLogstashHandler('0.0.0.0', 5959))\n",
    "# test_logger.addHandler(logstash.TCPLogstashHandler('0.0.0.0', 5959))\n",
    "\n",
    "test_logger.error('python-logstash: test logstash error message.')\n",
    "test_logger.info('python-logstash: test logstash info message.')\n",
    "test_logger.warning('python-logstash: test logstash warning message.')\n",
    "\n",
    "# add extra field to logstash message\n",
    "extra = {\n",
    "    'test_string': 'python version: ' + repr(sys.version_info),\n",
    "    'test_boolean': True,\n",
    "    'test_dict': {'a': 1, 'b': 'c'},\n",
    "    'test_float': 1.23,\n",
    "    'test_integer': 123,\n",
    "#     'test_list': [1, 2, '3'],\n",
    "}\n",
    "test_logger.info('python-logstash: test extra fields', extra=extra)"
   ]
  },
  {
   "cell_type": "code",
   "execution_count": 178,
   "metadata": {
    "collapsed": false
   },
   "outputs": [
    {
     "data": {
      "text/plain": [
       "dict_keys(['.kibana', 'logstash-2016.11.08'])"
      ]
     },
     "execution_count": 178,
     "metadata": {},
     "output_type": "execute_result"
    }
   ],
   "source": [
    "es.indices.get('*').keys()"
   ]
  },
  {
   "cell_type": "code",
   "execution_count": 155,
   "metadata": {
    "collapsed": true
   },
   "outputs": [],
   "source": [
    "test_logger.info('python-logstash: test extra fields', extra=extra)"
   ]
  },
  {
   "cell_type": "code",
   "execution_count": null,
   "metadata": {
    "collapsed": true
   },
   "outputs": [],
   "source": []
  }
 ],
 "metadata": {
  "kernelspec": {
   "display_name": "Python [Root]",
   "language": "python",
   "name": "Python [Root]"
  },
  "language_info": {
   "codemirror_mode": {
    "name": "ipython",
    "version": 3
   },
   "file_extension": ".py",
   "mimetype": "text/x-python",
   "name": "python",
   "nbconvert_exporter": "python",
   "pygments_lexer": "ipython3",
   "version": "3.5.2"
  }
 },
 "nbformat": 4,
 "nbformat_minor": 0
}
